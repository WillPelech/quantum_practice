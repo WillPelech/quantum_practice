{
 "cells": [
  {
   "cell_type": "markdown",
   "metadata": {},
   "source": [
    "# Prompt"
   ]
  },
  {
   "cell_type": "markdown",
   "metadata": {},
   "source": [
    "##### 2. Bernstein-Vazirani Algorithm (for n = 4) The Bernstein-Vazirani algorithm is used to determine a hidden string s ∈ {0, 1} n given an oracle that computes f(x) = s · x mod 2, where s · x represents the bitwise inner product. Construct a Qiskit circuit for the Bernstein-Vazirani algorithm with 4 input qubits and 1 ancillary qubit. Assume the hidden string is s = 1011. After applying the Hadamard gates to the first 4 qubits and initializing the ancillary qubit in |1⟩, what is the quantum state of the system before the oracle is applied? Implement the oracle for the hidden string s = 1011 in Qiskit using CNOT gates. Simulate the circuit and display the final statevector using LaTeX. Equation for Oracle Application: f(x) = s · x mod 2 (11.6.2) Measure the qubits at the end of the circuit and verify whether the measurement results match the hidden string s = 1011"
   ]
  },
  {
   "cell_type": "markdown",
   "metadata": {},
   "source": [
    "## Setup"
   ]
  },
  {
   "cell_type": "code",
   "execution_count": 1,
   "metadata": {},
   "outputs": [],
   "source": [
    "from qiskit import QuantumCircuit, transpile\n",
    "from qiskit_aer import AerSimulator\n",
    "from qiskit.quantum_info import Statevector\n",
    "from IPython.display import display, Latex\n",
    "import numpy as np"
   ]
  },
  {
   "cell_type": "markdown",
   "metadata": {},
   "source": [
    "## Reversing the string"
   ]
  },
  {
   "cell_type": "markdown",
   "metadata": {},
   "source": [
    "## BV"
   ]
  },
  {
   "cell_type": "code",
   "execution_count": 19,
   "metadata": {},
   "outputs": [],
   "source": [
    "def bernstein_vazirani(hidden_string):\n",
    "    n=len(hidden_string)\n",
    "    qc = QuantumCircuit ( n + 1 , n )\n",
    " # Step 1: Initialize Hadamard on first n qubits and auxiliary qubit\n",
    "    qc . h ( range ( n ) ) # Hadamard gates on the first n qubits\n",
    "    qc . x ( n ) # Initialize auxiliary qubit to |1 >\n",
    "    qc . h ( n ) # Hadamard gate on the auxiliary qubit\n",
    "\n",
    "    # Step 2: Apply the oracle ( CNOT gates based on the hidden string )\n",
    "    for i , bit in enumerate ( hidden_string ) :\n",
    "        if bit == '1':\n",
    "            qc . cx (i , n ) # CNOT gate applied when hidden string bit is 1\n",
    "\n",
    "     # Step 3: Apply Hadamard gates again to the first n qubits ( NOT auxiliary qubit ) \n",
    "    qc.h(range(n))\n",
    "\n",
    " # Save statevector\n",
    "    qc.save_statevector()\n",
    "\n",
    "    return qc , n\n",
    "    "
   ]
  },
  {
   "cell_type": "markdown",
   "metadata": {},
   "source": [
    "## Hidden String"
   ]
  },
  {
   "cell_type": "code",
   "execution_count": 20,
   "metadata": {},
   "outputs": [],
   "source": [
    "hidden_string = \"1100\" # Expected outcome is the hidden string 110\n",
    "hidden_string = hidden_string[::-1]\n",
    "qc , n = bernstein_vazirani( hidden_string )\n",
    "simulator = AerSimulator ()\n",
    "compiled_circuit = transpile ( qc , simulator )\n",
    "result = simulator . run ( compiled_circuit ). result ()"
   ]
  },
  {
   "cell_type": "code",
   "execution_count": 21,
   "metadata": {},
   "outputs": [],
   "source": [
    "def format_statevector_latex ( statevector , n ) :\n",
    "    latex_str = r\"\\ left | \\psi \\ right \\ rangle = \"\n",
    "    basis_states = [ f\"|{i :0{ n}b }\\\\ rangle \" for i in range (2** n ) ]\n",
    "    for amplitude , state in zip ( statevector . data [:2** n ] , basis_states ) :\n",
    "        real_part = np . real ( amplitude )\n",
    "        imag_part = np . imag ( amplitude )\n",
    "        if np .abs ( amplitude ) > 1e-6:\n",
    "            if imag_part >= 0:\n",
    "                latex_str += f\"({ real_part :.6 f} + { imag_part :.6 f}i){ state }\"\n",
    "            else:\n",
    "                latex_str += f\"({ real_part :.6 f} - { abs ( imag_part ) :.6 f}i){state } + \"\n",
    "    latex_str = latex_str [: -3] # Remove the last ’ + ’\n",
    "    latex_str += r\"$\"\n",
    "    return latex_str"
   ]
  },
  {
   "cell_type": "code",
   "execution_count": 22,
   "metadata": {},
   "outputs": [
    {
     "name": "stdout",
     "output_type": "stream",
     "text": [
      " Measurement counts : {'1100': 1024}\n"
     ]
    }
   ],
   "source": [
    "qc.measure(range (n),range (n))\n",
    "compiled_circuit_with_measure = transpile ( qc , simulator )\n",
    "result_with_measure = simulator . run ( compiled_circuit_with_measure , shots=1024) . result ()\n",
    "counts = result_with_measure . get_counts ()\n",
    "print ( f\" Measurement counts : { counts }\")"
   ]
  }
 ],
 "metadata": {
  "kernelspec": {
   "display_name": "qrng",
   "language": "python",
   "name": "python3"
  },
  "language_info": {
   "codemirror_mode": {
    "name": "ipython",
    "version": 3
   },
   "file_extension": ".py",
   "mimetype": "text/x-python",
   "name": "python",
   "nbconvert_exporter": "python",
   "pygments_lexer": "ipython3",
   "version": "3.12.2"
  }
 },
 "nbformat": 4,
 "nbformat_minor": 2
}
