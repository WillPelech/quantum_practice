{
 "cells": [
  {
   "cell_type": "markdown",
   "metadata": {},
   "source": [
    "## Start of Deustch"
   ]
  },
  {
   "cell_type": "code",
   "execution_count": 1,
   "metadata": {},
   "outputs": [],
   "source": [
    "from qiskit import *\n",
    "import Ae"
   ]
  },
  {
   "cell_type": "code",
   "execution_count": 2,
   "metadata": {},
   "outputs": [],
   "source": [
    "def deutsch_oracle(case):\n",
    "    qc = QuantumCircuit(2)\n",
    "    if case =='balanced':\n",
    "        qc.cx(0,1)\n",
    "    elif case == 'constat':\n",
    "        qc.id()\n",
    "\n",
    "    return qc"
   ]
  },
  {
   "cell_type": "code",
   "execution_count": null,
   "metadata": {},
   "outputs": [],
   "source": [
    "def deustch_circuit(case):\n",
    "    qc = QuantumCircuit(2)\n",
    "\n",
    "    #prepare the ssecond qubit \n",
    "    qc.x(1)\n",
    "\n",
    "    #apply the hadamard\n",
    "\n",
    "    qc.h(0)\n",
    "    qc.h1(1)\n",
    "\n",
    "    qc.compose(deutsch_oracle(case))\n",
    "    \n"
   ]
  },
  {
   "cell_type": "code",
   "execution_count": null,
   "metadata": {},
   "outputs": [],
   "source": []
  }
 ],
 "metadata": {
  "kernelspec": {
   "display_name": "qrng",
   "language": "python",
   "name": "python3"
  },
  "language_info": {
   "codemirror_mode": {
    "name": "ipython",
    "version": 3
   },
   "file_extension": ".py",
   "mimetype": "text/x-python",
   "name": "python",
   "nbconvert_exporter": "python",
   "pygments_lexer": "ipython3",
   "version": "3.12.2"
  }
 },
 "nbformat": 4,
 "nbformat_minor": 2
}
