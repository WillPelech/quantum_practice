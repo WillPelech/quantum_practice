{
 "cells": [
  {
   "cell_type": "markdown",
   "metadata": {},
   "source": [
    "### BB84 code"
   ]
  },
  {
   "cell_type": "markdown",
   "metadata": {},
   "source": [
    "##### imports"
   ]
  },
  {
   "cell_type": "code",
   "execution_count": 13,
   "metadata": {},
   "outputs": [],
   "source": [
    "from qiskit import QuantumCircuit , transpile\n",
    "from qiskit_aer import AerSimulator\n",
    "import random"
   ]
  },
  {
   "cell_type": "code",
   "execution_count": 14,
   "metadata": {},
   "outputs": [],
   "source": [
    "key_length = 10"
   ]
  },
  {
   "cell_type": "markdown",
   "metadata": {},
   "source": [
    "#### Valid Bases"
   ]
  },
  {
   "cell_type": "code",
   "execution_count": 15,
   "metadata": {},
   "outputs": [],
   "source": [
    "alice_bits = [ random . randint (0 , 1) for _ in range ( key_length ) ]\n",
    "alice_bases = [ random . choice ([ 'X', 'Z']) for _ in range ( key_length ) ]\n",
    "bob_bases = [ random . choice ([ 'X','Z']) for _ in range ( key_length ) ]"
   ]
  },
  {
   "cell_type": "markdown",
   "metadata": {},
   "source": [
    "### Eve"
   ]
  },
  {
   "cell_type": "code",
   "execution_count": 16,
   "metadata": {},
   "outputs": [],
   "source": [
    "eve_intercepted = [ random . choice ([ True , False ]) for _ in range ( key_length )]"
   ]
  },
  {
   "cell_type": "code",
   "execution_count": 17,
   "metadata": {},
   "outputs": [],
   "source": [
    "alice_qubits = []\n",
    "for i in range ( key_length ) :\n",
    "    qc = QuantumCircuit (1 , 1)\n",
    "   # Prepare the qubit in |0 > or |1 > based on alice_bits\n",
    "    if alice_bits [ i ] == 1:\n",
    "         qc.x (0)\n",
    "\n",
    "        # Apply basis (X for Hadamard , Z for no operation )\n",
    "    if alice_bases [ i ] == 'X':\n",
    "         qc.h (0)\n",
    "\n",
    "    alice_qubits.append(qc)"
   ]
  },
  {
   "cell_type": "markdown",
   "metadata": {},
   "source": [
    "#### Intercepted qubits"
   ]
  },
  {
   "cell_type": "code",
   "execution_count": 18,
   "metadata": {},
   "outputs": [
    {
     "ename": "NameError",
     "evalue": "name 'simulator' is not defined",
     "output_type": "error",
     "traceback": [
      "\u001b[0;31m---------------------------------------------------------------------------\u001b[0m",
      "\u001b[0;31mNameError\u001b[0m                                 Traceback (most recent call last)",
      "Cell \u001b[0;32mIn[18], line 7\u001b[0m\n\u001b[1;32m      5\u001b[0m     qc\u001b[38;5;241m.\u001b[39mh(\u001b[38;5;241m0\u001b[39m) \u001b[38;5;66;03m# Measure in X basis\u001b[39;00m\n\u001b[1;32m      6\u001b[0m qc\u001b[38;5;241m.\u001b[39mmeasure (\u001b[38;5;241m0\u001b[39m , \u001b[38;5;241m0\u001b[39m)\n\u001b[0;32m----> 7\u001b[0m transpiled_qc \u001b[38;5;241m=\u001b[39m transpile ( qc , \u001b[43msimulator\u001b[49m )\n\u001b[1;32m      8\u001b[0m result \u001b[38;5;241m=\u001b[39m simulator \u001b[38;5;241m.\u001b[39m run ( transpiled_qc ) \u001b[38;5;241m.\u001b[39m result ()\n\u001b[1;32m      9\u001b[0m counts \u001b[38;5;241m=\u001b[39m result \u001b[38;5;241m.\u001b[39m get_counts ()\n",
      "\u001b[0;31mNameError\u001b[0m: name 'simulator' is not defined"
     ]
    }
   ],
   "source": [
    "eve_results = []\n",
    "for i , qc in enumerate ( alice_qubits ) :\n",
    "    if eve_intercepted [ i ]:\n",
    "        if random.choice(['X','Z']) =='Z':\n",
    "            qc.h(0) # Measure in X basis\n",
    "        qc.measure (0 , 0)\n",
    "        transpiled_qc = transpile ( qc , simulator )\n",
    "        result = simulator . run ( transpiled_qc ) . result ()\n",
    "        counts = result . get_counts ()\n",
    "if counts . get ('0', 0) == counts . get ('1', 0) :\n",
    "    eve_results . append ( random . choice ([0 , 1]) )\n",
    "else :\n",
    "    eve_results . append ( int ( max ( counts , key = counts . get ) ) )"
   ]
  },
  {
   "cell_type": "code",
   "execution_count": null,
   "metadata": {},
   "outputs": [],
   "source": [
    "bob_results = []\n",
    "for i in range ( key_length ) :\n",
    "    # Create Bob ’s circuit with Alice ’s prepared qubit\n",
    "    qc = alice_qubits [ i ]. copy ()\n",
    "    if bob_bases [ i ] == 'X':\n",
    "        qc . h (0)\n",
    "    qc . measure (0 , 0)\n",
    "\n",
    "    transpiled_qc = transpile ( qc , simulator )\n",
    "    result = simulator . run ( transpiled_qc ) . result ()\n",
    "    counts = result.get_counts()\n",
    "    if counts . get ('0', 0) == counts . get ('1', 0) :\n",
    "        bob_results . append ( random . choice ([0 , 1]) )\n",
    "    else :\n",
    "        bob_results . append ( int ( max ( counts , key = counts . get ) ) )\n"
   ]
  },
  {
   "cell_type": "code",
   "execution_count": null,
   "metadata": {},
   "outputs": [],
   "source": [
    "shared_key = []\n",
    "eve_successful_intercepts = 0\n",
    "total_matching_bases = 0"
   ]
  },
  {
   "cell_type": "code",
   "execution_count": null,
   "metadata": {},
   "outputs": [
    {
     "name": "stdout",
     "output_type": "stream",
     "text": [
      "10\n",
      "10\n",
      "10\n",
      "10\n",
      "10\n",
      "10\n",
      "10\n",
      "10\n",
      "10\n",
      "10\n",
      "10\n",
      "10\n",
      "10\n",
      "10\n",
      "10\n",
      "10\n",
      "10\n",
      "10\n",
      "10\n",
      "10\n"
     ]
    }
   ],
   "source": [
    "for i in range ( key_length) :\n",
    "    print(len(bob_bases))\n",
    "    print(len(bob_results))\n",
    "    if alice_bases [ i ] == bob_bases [ i ]: # Keep only if bases match\n",
    "        total_matching_bases += 1\n",
    "        if alice_bits [ i ] == bob_results [ i ]: # Successful key bit\n",
    "            shared_key . append ( alice_bits [ i ])\n",
    "            if eve_intercepted [ i ]:\n",
    "                eve_successful_intercepts += 1"
   ]
  },
  {
   "cell_type": "code",
   "execution_count": null,
   "metadata": {},
   "outputs": [
    {
     "ename": "NameError",
     "evalue": "name 'total_matching_bases' is not defined",
     "output_type": "error",
     "traceback": [
      "\u001b[0;31m---------------------------------------------------------------------------\u001b[0m",
      "\u001b[0;31mNameError\u001b[0m                                 Traceback (most recent call last)",
      "Cell \u001b[0;32mIn[7], line 1\u001b[0m\n\u001b[0;32m----> 1\u001b[0m \u001b[38;5;28;01mif\u001b[39;00m \u001b[43mtotal_matching_bases\u001b[49m \u001b[38;5;241m>\u001b[39m \u001b[38;5;241m0\u001b[39m:\n\u001b[1;32m      2\u001b[0m     eve_success_rate \u001b[38;5;241m=\u001b[39m eve_successful_intercepts \u001b[38;5;241m/\u001b[39m total_matching_bases\n\u001b[1;32m      3\u001b[0m \u001b[38;5;28;01melse\u001b[39;00m :  \n",
      "\u001b[0;31mNameError\u001b[0m: name 'total_matching_bases' is not defined"
     ]
    }
   ],
   "source": [
    "if total_matching_bases > 0:\n",
    "    eve_success_rate = eve_successful_intercepts / total_matching_bases\n",
    "else :  \n",
    "    eve_success_rate = 0 # Avoid division by zero if no matching bases\n",
    " # Display results\n",
    "print (\" Alice ’s Bits : \", alice_bits )\n",
    "print (\" Alice ’s Bases : \", alice_bases )\n",
    "print (\" Eve Intercepts : \", eve_intercepted )\n",
    "print (\" Bob ’s Bases : \", bob_bases )\n",
    "print (\" Bob ’s Results : \", bob_results )\n",
    "print (\" Shared Key : \", [ int ( bit ) for bit in shared_key])\n",
    "print ( f\" Eve ’s Success Rate : { eve_success_rate * 100}%\")"
   ]
  },
  {
   "cell_type": "code",
   "execution_count": null,
   "metadata": {},
   "outputs": [
    {
     "ename": "NameError",
     "evalue": "name 'shared_key' is not defined",
     "output_type": "error",
     "traceback": [
      "\u001b[0;31m---------------------------------------------------------------------------\u001b[0m",
      "\u001b[0;31mNameError\u001b[0m                                 Traceback (most recent call last)",
      "Cell \u001b[0;32mIn[1], line 1\u001b[0m\n\u001b[0;32m----> 1\u001b[0m sample_size \u001b[38;5;241m=\u001b[39m \u001b[38;5;28mmin\u001b[39m(\u001b[38;5;241m5\u001b[39m, \u001b[38;5;28mlen\u001b[39m(\u001b[43mshared_key\u001b[49m))  \n\u001b[1;32m      2\u001b[0m sample_indices \u001b[38;5;241m=\u001b[39m random\u001b[38;5;241m.\u001b[39msample(\u001b[38;5;28mrange\u001b[39m(\u001b[38;5;28mlen\u001b[39m(shared_key)), sample_size)\n\u001b[1;32m      4\u001b[0m errors \u001b[38;5;241m=\u001b[39m \u001b[38;5;241m0\u001b[39m\n",
      "\u001b[0;31mNameError\u001b[0m: name 'shared_key' is not defined"
     ]
    }
   ],
   "source": [
    "# sample_size = min(5, len(shared_key))  \n",
    "# sample_indices = random.sample(range(len(shared_key)), sample_size)\n",
    "\n",
    "# errors = 0\n",
    "# for index in sample_indices:\n",
    "#     if shared_key[index] != bob_results[index]:\n",
    "#         errors += 1\n",
    "\n",
    "# error_rate = errors / sample_size\n",
    "\n",
    "# if error_rate > 0.1:\n",
    "#     print(\"High error rate detected. Possible eavesdropping. Key discarded.\")\n",
    "# else:\n",
    "#     print(\"Key is likely secure. Proceeding with the shared key.\")"
   ]
  }
 ],
 "metadata": {
  "kernelspec": {
   "display_name": "oct_2024",
   "language": "python",
   "name": "python3"
  },
  "language_info": {
   "codemirror_mode": {
    "name": "ipython",
    "version": 3
   },
   "file_extension": ".py",
   "mimetype": "text/x-python",
   "name": "python",
   "nbconvert_exporter": "python",
   "pygments_lexer": "ipython3",
   "version": "3.12.4"
  }
 },
 "nbformat": 4,
 "nbformat_minor": 2
}
