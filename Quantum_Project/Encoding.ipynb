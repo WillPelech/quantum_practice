{
 "cells": [
  {
   "cell_type": "markdown",
   "metadata": {},
   "source": [
    "# Encoding states"
   ]
  },
  {
   "cell_type": "markdown",
   "metadata": {},
   "source": [
    "### The purpose of this section is to show how I will be encoding my states in order to be correctly used by the Quantum Singular Value Decomposition code. Note code provided for the matrix but does not really matter just to show proof of concept"
   ]
  },
  {
   "cell_type": "markdown",
   "metadata": {},
   "source": [
    "#### Initial Imports"
   ]
  },
  {
   "cell_type": "code",
   "execution_count": 17,
   "metadata": {},
   "outputs": [],
   "source": [
    "import matplotlib.pyplot as plt\n",
    "import numpy as np\n",
    "import math\n",
    "import qiskit_aer\n",
    "\n",
    "\n",
    "from qiskit import transpile, assemble\n",
    "from qiskit import QuantumCircuit, ClassicalRegister, QuantumRegister\n",
    "from qiskit_aer import AerSimulator\n",
    "from qiskit_ibm_runtime import QiskitRuntimeService\n",
    "from qiskit.visualization import plot_histogram"
   ]
  },
  {
   "cell_type": "markdown",
   "metadata": {},
   "source": [
    "### Setup"
   ]
  },
  {
   "cell_type": "markdown",
   "metadata": {},
   "source": [
    "##### note the setup is only for verification purposes"
   ]
  },
  {
   "cell_type": "code",
   "execution_count": 18,
   "metadata": {},
   "outputs": [],
   "source": [
    "# dimension =5\n",
    "# # creates a random square matrix\n",
    "#matrix = np.random.randint(0,2, size = (dimension,dimension))\n",
    "# print(matrix)"
   ]
  },
  {
   "cell_type": "markdown",
   "metadata": {},
   "source": [
    "##### user matrix we are testing"
   ]
  },
  {
   "cell_type": "code",
   "execution_count": 19,
   "metadata": {},
   "outputs": [],
   "source": [
    "b = np.array([1,2,3,4]) #sample vector"
   ]
  },
  {
   "cell_type": "markdown",
   "metadata": {},
   "source": [
    "### Encoding of states"
   ]
  },
  {
   "cell_type": "code",
   "execution_count": null,
   "metadata": {},
   "outputs": [],
   "source": [
    "\n",
    "# def encode_row(vector,qc):\n",
    "\n",
    "#     #normalizing \n",
    "#     b = np.array([1,2,3,4]) #sample vector \n",
    "#     # vector b\n",
    "#     norm_b = np.linalg.norm(b)\n",
    "#     # print(norm_b)\n",
    "#     b = b/norm_b\n",
    "#     print(b)\n",
    "\n",
    "#     #1 bit quantum circuit\n",
    "#     #\n",
    "#     qc = QuantumCircuit(2)\n",
    "\n",
    "#     qc.initialize(b,qc.qubits) #\n",
    "\n",
    "#     res=0\n",
    "\n",
    "#     qc.draw(output='text')\n",
    "#modified code to be N-qubit\n",
    "def encode_row(vector: list[int], qc) -> None:\n",
    "\n",
    "    vector = np.array(vector, dtype=np.complex128)  \n",
    "    norm = np.linalg.norm(vector)\n",
    "    if norm == 0:\n",
    "        raise ValueError(\"Cannot encode a zero vector\")\n",
    "    normalized_vector = vector / norm  \n",
    "\n",
    "    padded_length = 2**int(np.ceil(np.log2(len(normalized_vector))))\n",
    "    if len(normalized_vector) < padded_length:\n",
    "        normalized_vector = np.pad(normalized_vector, (0, padded_length - len(normalized_vector)), 'constant')\n",
    "\n",
    "    num_qubits = int(np.log2(len(normalized_vector)))\n",
    "    qc = QuantumCircuit(num_qubits)\n",
    "\n",
    "    qc.initialize(normalized_vector, qc.qubits)\n",
    "\n",
    "    qc.draw(output=\"mpl\")\n",
    "    return qc\n"
   ]
  },
  {
   "cell_type": "code",
   "execution_count": 22,
   "metadata": {},
   "outputs": [
    {
     "data": {
      "image/png": "[encoded data removed]",
      "text/plain": [
       "<Figure size 370.906x200.667 with 1 Axes>"
      ]
     },
     "execution_count": 22,
     "metadata": {},
     "output_type": "execute_result"
    }
   ],
   "source": [
    "qc=QuantumCircuit()\n",
    "store = encode_row(b,qc)\n",
    "store.draw(output='mpl')"
   ]
  },
  {
   "cell_type": "markdown",
   "metadata": {},
   "source": [
    "### Encoding Matrix\n",
    "##### The way this work is by encoding each row into its on circuit"
   ]
  },
  {
   "cell_type": "code",
   "execution_count": 23,
   "metadata": {},
   "outputs": [],
   "source": [
    "def encode_matrix(matrix:list[list[int]])-> list[QuantumCircuit]:\n",
    "    circuits = []\n",
    "    for row in matrix:\n",
    "        qc = QuantumCircuit()  \n",
    "        encoded_qc = encode_row(row, qc)  \n",
    "        circuits.append(encoded_qc) \n",
    "    return circuits"
   ]
  }
 ],
 "metadata": {
  "kernelspec": {
   "display_name": "oct_2024",
   "language": "python",
   "name": "python3"
  },
  "language_info": {
   "codemirror_mode": {
    "name": "ipython",
    "version": 3
   },
   "file_extension": ".py",
   "mimetype": "text/x-python",
   "name": "python",
   "nbconvert_exporter": "python",
   "pygments_lexer": "ipython3",
   "version": "3.12.4"
  }
 },
 "nbformat": 4,
 "nbformat_minor": 2
}
