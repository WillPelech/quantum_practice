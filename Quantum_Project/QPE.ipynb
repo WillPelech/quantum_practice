{
 "cells": [
  {
   "cell_type": "markdown",
   "metadata": {},
   "source": [
    "# Quantum Phase Estimation"
   ]
  },
  {
   "cell_type": "markdown",
   "metadata": {},
   "source": [
    "### Initial Imports"
   ]
  },
  {
   "cell_type": "code",
   "execution_count": 189,
   "metadata": {},
   "outputs": [],
   "source": [
    "import matplotlib.pyplot as plt\n",
    "import numpy as np\n",
    "import math\n",
    "import qiskit_aer\n",
    "\n",
    "import import_ipynb\n",
    "#%run EigenvalueInversion.ipynb import *\n",
    "# %run Encoding.ipynb import *\n",
    "# %run EigenvalueInversion.ipynb\n",
    "\n",
    "\n",
    "from qiskit import transpile, assemble\n",
    "from qiskit import QuantumCircuit, ClassicalRegister, QuantumRegister\n",
    "from qiskit_aer import AerSimulator\n",
    "from qiskit_ibm_runtime import QiskitRuntimeService\n",
    "from qiskit.visualization import plot_histogram"
   ]
  },
  {
   "cell_type": "markdown",
   "metadata": {},
   "source": [
    "### Inverse QFT for use after Unitary Register Hit"
   ]
  },
  {
   "cell_type": "code",
   "execution_count": 190,
   "metadata": {},
   "outputs": [],
   "source": [
    "def qft_inv(qc,n):\n",
    "    for  q in range(n//2):\n",
    "        qc.swap(q,n-q-1)\n",
    "    for j in range(n):\n",
    "        for m in range(j):\n",
    "            qc.cp(-math.pi/float(2**(j-m)),m,j)\n",
    "        qc.h(j)"
   ]
  },
  {
   "cell_type": "markdown",
   "metadata": {},
   "source": [
    "### Qubit Input"
   ]
  },
  {
   "cell_type": "code",
   "execution_count": 191,
   "metadata": {},
   "outputs": [],
   "source": [
    "#this section you can choose the amount of Qubits you are using\n",
    "number_of_qubits = 4"
   ]
  },
  {
   "cell_type": "markdown",
   "metadata": {},
   "source": [
    "## Circuit Setup"
   ]
  },
  {
   "cell_type": "code",
   "execution_count": 192,
   "metadata": {},
   "outputs": [],
   "source": [
    "qpe = QuantumCircuit(number_of_qubits,number_of_qubits-1)\n",
    "\n",
    "# samp = [math.randint() for ]\n",
    "for qubit in qpe:\n",
    "    qpe = encode_row()\n",
    "\n",
    "\n",
    "\n",
    "\n",
    "# qpe.x(number_of_qubits-1)\n",
    "# qpe.draw()\n",
    "\n"
   ]
  },
  {
   "cell_type": "markdown",
   "metadata": {},
   "source": [
    "## Hadamard on Qubits"
   ]
  },
  {
   "cell_type": "code",
   "execution_count": 193,
   "metadata": {},
   "outputs": [
    {
     "data": {
      "text/html": [
       "<pre style=\"word-wrap: normal;white-space: pre;background: #fff0;line-height: 1.1;font-family: &quot;Courier New&quot;,Courier,monospace\">     ┌───┐\n",
       "q_0: ┤ H ├\n",
       "     ├───┤\n",
       "q_1: ┤ H ├\n",
       "     ├───┤\n",
       "q_2: ┤ H ├\n",
       "     └───┘\n",
       "q_3: ─────\n",
       "          \n",
       "c: 3/═════\n",
       "          </pre>"
      ],
      "text/plain": [
       "     ┌───┐\n",
       "q_0: ┤ H ├\n",
       "     ├───┤\n",
       "q_1: ┤ H ├\n",
       "     ├───┤\n",
       "q_2: ┤ H ├\n",
       "     └───┘\n",
       "q_3: ─────\n",
       "          \n",
       "c: 3/═════\n",
       "          "
      ]
     },
     "execution_count": 193,
     "metadata": {},
     "output_type": "execute_result"
    }
   ],
   "source": [
    "for i in range(number_of_qubits-1):\n",
    "    qpe.h(i)\n",
    "qpe.draw()"
   ]
  },
  {
   "cell_type": "markdown",
   "metadata": {},
   "source": [
    "## Applying Controlled Unitaries"
   ]
  },
  {
   "cell_type": "code",
   "execution_count": 194,
   "metadata": {},
   "outputs": [
    {
     "data": {
      "text/html": [
       "<pre style=\"word-wrap: normal;white-space: pre;background: #fff0;line-height: 1.1;font-family: &quot;Courier New&quot;,Courier,monospace\">     ┌───┐                                                               \n",
       "q_0: ┤ H ├─■─────────────────────────────────────────────────────────────\n",
       "     ├───┤ │                                                             \n",
       "q_1: ┤ H ├─┼────────■────────■───────────────────────────────────────────\n",
       "     ├───┤ │        │        │                                           \n",
       "q_2: ┤ H ├─┼────────┼────────┼────────■────────■────────■────────■───────\n",
       "     └───┘ │P(π/4)  │P(π/4)  │P(π/4)  │P(π/4)  │P(π/4)  │P(π/4)  │P(π/4) \n",
       "q_3: ──────■────────■────────■────────■────────■────────■────────■───────\n",
       "                                                                         \n",
       "c: 3/════════════════════════════════════════════════════════════════════\n",
       "                                                                         </pre>"
      ],
      "text/plain": [
       "     ┌───┐                                                               \n",
       "q_0: ┤ H ├─■─────────────────────────────────────────────────────────────\n",
       "     ├───┤ │                                                             \n",
       "q_1: ┤ H ├─┼────────■────────■───────────────────────────────────────────\n",
       "     ├───┤ │        │        │                                           \n",
       "q_2: ┤ H ├─┼────────┼────────┼────────■────────■────────■────────■───────\n",
       "     └───┘ │P(π/4)  │P(π/4)  │P(π/4)  │P(π/4)  │P(π/4)  │P(π/4)  │P(π/4) \n",
       "q_3: ──────■────────■────────■────────■────────■────────■────────■───────\n",
       "                                                                         \n",
       "c: 3/════════════════════════════════════════════════════════════════════\n",
       "                                                                         "
      ]
     },
     "execution_count": 194,
     "metadata": {},
     "output_type": "execute_result"
    }
   ],
   "source": [
    "r = 1 # how many times we are repeating argument which\n",
    "#follows the logic of applying to 2^n extra unitary operations\n",
    "# to the gate\n",
    "for num in range(number_of_qubits-1):\n",
    "    for i in range(r):\n",
    "        qpe.cp(math.pi/4,num,number_of_qubits-1) # e^ pi/4\n",
    "    r*=2 #doubling the number of required operation s\n",
    "\n",
    "qpe.draw()\n"
   ]
  },
  {
   "cell_type": "markdown",
   "metadata": {},
   "source": [
    "## Inverting for Quantum kickback "
   ]
  },
  {
   "cell_type": "code",
   "execution_count": 195,
   "metadata": {},
   "outputs": [
    {
     "data": {
      "image/png": "[encoded data removed]",
      "text/plain": [
       "<Figure size 2210.55x953.167 with 1 Axes>"
      ]
     },
     "execution_count": 195,
     "metadata": {},
     "output_type": "execute_result"
    }
   ],
   "source": [
    "qpe.barrier() #barriers are use to seperate a circuit into different optimizations\n",
    "qft_inv(qpe,number_of_qubits)\n",
    "qpe.barrier()\n",
    "\n",
    "for n in range(number_of_qubits-1):\n",
    "    qpe.measure(n,n)\n",
    "qpe.draw(output=\"mpl\")"
   ]
  },
  {
   "cell_type": "markdown",
   "metadata": {},
   "source": [
    "## Simulator"
   ]
  },
  {
   "cell_type": "code",
   "execution_count": 196,
   "metadata": {},
   "outputs": [
    {
     "name": "stderr",
     "output_type": "stream",
     "text": [
      "/var/folders/08/l_w4v5hx0331r4f0fnfp7wwc0000gn/T/ipykernel_39352/3067354053.py:5: DeprecationWarning: The function ``qiskit.compiler.assembler.assemble()`` is deprecated as of qiskit 1.2. It will be removed in the 2.0 release. The `Qobj` class and related functionality are part of the deprecated `BackendV1` workflow,  and no longer necessary for `BackendV2`. If a user workflow requires `Qobj` it likely relies on deprecated functionality and should be updated to use `BackendV2`.\n",
      "  qobj = assemble(t_qpe,shots=shots)\n"
     ]
    },
    {
     "data": {
      "image/png": "[encoded data removed]",
      "text/plain": [
       "<Figure size 640x480 with 1 Axes>"
      ]
     },
     "execution_count": 196,
     "metadata": {},
     "output_type": "execute_result"
    }
   ],
   "source": [
    "sim = AerSimulator()\n",
    "shots = 1024\n",
    "t_qpe = transpile(qpe,sim)\n",
    "\n",
    "qobj = assemble(t_qpe,shots=shots)\n",
    "results = sim.run(t_qpe,shots=1024).result()\n",
    "answer = results.get_counts()\n",
    "plot_histogram(answer)\n"
   ]
  },
  {
   "cell_type": "markdown",
   "metadata": {},
   "source": [
    "## Using heap to format E-values"
   ]
  },
  {
   "cell_type": "code",
   "execution_count": 197,
   "metadata": {},
   "outputs": [
    {
     "name": "stdout",
     "output_type": "stream",
     "text": [
      "Eigenvalue,5.497787143782138: Phase111\n",
      "Eigenvalue,3.9269908169872414: Phase101\n",
      "Eigenvalue,2.356194490192345: Phase011\n",
      "Eigenvalue,0.0: Phase000\n",
      "Eigenvalue,0.7853981633974483: Phase001\n",
      "[0.7853981633974483, 2.356194490192345, 3.9269908169872414, 5.497787143782138]\n",
      "[[2.34473605 0.         0.         0.        ]\n",
      " [0.         1.98166365 0.         0.        ]\n",
      " [0.         0.         1.53499006 0.        ]\n",
      " [0.         0.         0.         0.88622693]]\n"
     ]
    }
   ],
   "source": [
    "#e_v_arr=[]#array dedicated to storing eigenvalues\n",
    "\n",
    "#n^2log(n)\n",
    "#log()\n",
    "import heapq\n",
    "ev_heap = []\n",
    "heapq.heapify(ev_heap)\n",
    "\n",
    "for key, item in answer.items():\n",
    "    dv=int(key,2)#converts str to bin\n",
    "    phase = dv/2**(number_of_qubits-1)\n",
    "    evalue = 2 * math.pi *phase\n",
    "    heapq.heappush(ev_heap,evalue)\n",
    "    print(f'Eigenvalue,{evalue}: Phase{key}')\n",
    "\n",
    "heapq.heappop(ev_heap)\n",
    "#print(ev_heap)\n",
    "#print(heapq.(ev_heap))\n",
    "\n",
    "m = n = len(ev_heap)\n",
    "\n",
    "\n",
    "sig_matrix = [[0 for i in range(m)]for j in range(m)]\n",
    "\n",
    "\n",
    "\n",
    "print(ev_heap)\n",
    "\n",
    "for i in range(m-1,-1,-1):\n",
    "    val = heapq.heappop(ev_heap)\n",
    "    #sig_matrix[i][i]=val\n",
    "    sig_matrix[i][i]=math.sqrt(val)\n",
    "print(np.matrix(sig_matrix))\n"
   ]
  },
  {
   "cell_type": "markdown",
   "metadata": {},
   "source": [
    "### Now we have the sigma matrix lets reconstruct the SVD Matrix"
   ]
  },
  {
   "cell_type": "code",
   "execution_count": 198,
   "metadata": {},
   "outputs": [
    {
     "name": "stdout",
     "output_type": "stream",
     "text": [
      "4\n",
      "[[1 0 0 0]\n",
      " [0 1 0 0]\n",
      " [1 0 1 0]\n",
      " [0 1 1 0]]\n"
     ]
    }
   ],
   "source": [
    "### Computing the U matrix using the formula ui = Avi/σi\n",
    "num = len(sig_matrix)#square so doesnt matter which you chose\n",
    "dimension = num\n",
    "print(dimension)\n",
    "matrix = np.random.randint(0,2, size = (dimension,dimension))\n",
    "print(np.matrix(matrix))\n",
    "A = np.matmul(matrix, matrix)\n",
    "#print(np.matrix(A))\n",
    "#note this allows you to compute the evect for complex hermetian\n",
    "#numpy.linalg.eigh\n",
    "\n",
    "# np.linalg.eig(sig_matrix)\n",
    "matrix = np.random.randint(0,2, size = (dimension,dimension))\n",
    "#print(matrix)"
   ]
  },
  {
   "cell_type": "code",
   "execution_count": 199,
   "metadata": {},
   "outputs": [
    {
     "name": "stdout",
     "output_type": "stream",
     "text": [
      "[[0 0 1 1]\n",
      " [1 1 0 0]\n",
      " [1 1 0 1]\n",
      " [0 1 0 1]]\n",
      "===SIGMA MATRIX COMPARISON====\n",
      "Classic\n",
      "[[2.48704642 0.         0.         0.        ]\n",
      " [0.         1.44597796 0.         0.        ]\n",
      " [0.         0.         0.77036016 0.        ]\n",
      " [0.         0.         0.         0.36096128]]\n",
      "QuantumCircuit\n",
      "[[2.34473605 0.         0.         0.        ]\n",
      " [0.         1.98166365 0.         0.        ]\n",
      " [0.         0.         1.53499006 0.        ]\n",
      " [0.         0.         0.         0.88622693]]\n",
      "===========U-matrix=======\n",
      "===========∑-matrix=======\n",
      "===========V+-matrix=======\n",
      "[[-0.66440483  1.59887851  0.73857789  0.17094227]\n",
      " [-1.04784009 -1.07731497  0.64191803  0.50899022]\n",
      " [-1.60482991 -0.24313826  0.13595647 -0.6320506 ]\n",
      " [-1.17597001  0.38840001 -1.17479967  0.31243864]]\n"
     ]
    }
   ],
   "source": [
    "\n",
    "## current implementation is miss the \n",
    "#v =[[matrix[i][j]/sig_matrix[i][i] for j in range(num)] for i in range(num)]\n",
    "\n",
    "\n",
    "matrix = np.random.randint(0,2, size = (dimension,dimension))\n",
    "print(matrix)\n",
    "\n",
    "U, burn, Vh = np.linalg.svd(matrix)\n",
    "print(f\"===SIGMA MATRIX COMPARISON====\")\n",
    "print(f\"Classic\")\n",
    "fin_classic= [[0 for i in range(len(sig_matrix))] for j in range(len(sig_matrix))]\n",
    "for i in range(len(fin_classic)):\n",
    "    fin_classic[i][i]= burn[i]\n",
    "print(np.matrix(fin_classic))\n",
    "print(f'QuantumCircuit')\n",
    "print(np.matrix(sig_matrix))\n",
    "print(\"===========U-matrix=======\")\n",
    "#print(np.matrix(U))\n",
    "print(\"===========∑-matrix=======\")\n",
    "#print(np.matrix(sig_matrix))\n",
    "print(\"===========V+-matrix=======\")\n",
    "#print(Vh)\n",
    "\n",
    "fin= np.matmul(U,sig_matrix,Vh)\n",
    "print(np.matrix(fin))"
   ]
  }
 ],
 "metadata": {
  "kernelspec": {
   "display_name": "oct_2024",
   "language": "python",
   "name": "python3"
  },
  "language_info": {
   "codemirror_mode": {
    "name": "ipython",
    "version": 3
   },
   "file_extension": ".py",
   "mimetype": "text/x-python",
   "name": "python",
   "nbconvert_exporter": "python",
   "pygments_lexer": "ipython3",
   "version": "3.12.4"
  }
 },
 "nbformat": 4,
 "nbformat_minor": 2
}
