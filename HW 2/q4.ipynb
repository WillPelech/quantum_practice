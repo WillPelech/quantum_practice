{
 "cells": [
  {
   "cell_type": "markdown",
   "metadata": {},
   "source": [
    "# Code for HW GHZ"
   ]
  },
  {
   "cell_type": "markdown",
   "metadata": {},
   "source": [
    "#### imports"
   ]
  },
  {
   "cell_type": "code",
   "execution_count": 1,
   "metadata": {},
   "outputs": [],
   "source": [
    "from qiskit import QuantumCircuit , ClassicalRegister\n",
    "from qiskit.quantum_info import Statevector\n",
    "from qiskit import QuantumCircuit , transpile\n",
    "from qiskit_aer import AerSimulator\n",
    "import random"
   ]
  },
  {
   "cell_type": "code",
   "execution_count": 2,
   "metadata": {},
   "outputs": [],
   "source": [
    "def print_raw_statevector ( state , label ) :\n",
    "    print(f\"\\n{ label } (Raw Coefficients ):\")\n",
    "    print(state)"
   ]
  },
  {
   "cell_type": "code",
   "execution_count": 3,
   "metadata": {},
   "outputs": [],
   "source": [
    "def print_statevector ( state , label ) :\n",
    "    print(f\"\\n{ label }:\")\n",
    "    for i , amplitude in enumerate ( state ) :\n",
    "    # Convert index to binary , pad to 5 qubits , and reverse for big -endian\n",
    "        basis_state = f\"|{ format (i, '05b')[:: -1]} >\"\n",
    "    # Only print the non - zero amplitudes\n",
    "    if abs ( amplitude ) > 0.0001: # Filter out near - zero amplitudes\n",
    "        print ( f\"{ amplitude :.4 f} { basis_state }\")"
   ]
  },
  {
   "cell_type": "code",
   "execution_count": 4,
   "metadata": {},
   "outputs": [
    {
     "data": {
      "text/plain": [
       "<qiskit.circuit.instructionset.InstructionSet at 0x12ea4c730>"
      ]
     },
     "execution_count": 4,
     "metadata": {},
     "output_type": "execute_result"
    }
   ],
   "source": [
    "#let n be the number of qubits has to be 5 in this case\n",
    "n=5\n",
    "qc = QuantumCircuit(n)\n",
    "creg = ClassicalRegister(2,'c')\n",
    "qc.add_register(creg)\n",
    "qc.h(0)\n",
    "qc.cx(0,1)\n",
    "qc.cx(0,2)\n",
    "rand_arr =[0,1,2]\n",
    "random.shuffle(rand_arr)\n",
    "qc.x(rand_arr[0])\n",
    "qc.x(rand_arr[1])"
   ]
  },
  {
   "cell_type": "code",
   "execution_count": 5,
   "metadata": {},
   "outputs": [
    {
     "name": "stdout",
     "output_type": "stream",
     "text": [
      "\n",
      " Initial GHZ State ( Coefficients ) (Raw Coefficients ):\n",
      "Statevector([0.        +0.j, 0.70710678+0.j, 0.        +0.j,\n",
      "             0.        +0.j, 0.        +0.j, 0.        +0.j,\n",
      "             0.70710678+0.j, 0.        +0.j, 0.        +0.j,\n",
      "             0.        +0.j, 0.        +0.j, 0.        +0.j,\n",
      "             0.        +0.j, 0.        +0.j, 0.        +0.j,\n",
      "             0.        +0.j, 0.        +0.j, 0.        +0.j,\n",
      "             0.        +0.j, 0.        +0.j, 0.        +0.j,\n",
      "             0.        +0.j, 0.        +0.j, 0.        +0.j,\n",
      "             0.        +0.j, 0.        +0.j, 0.        +0.j,\n",
      "             0.        +0.j, 0.        +0.j, 0.        +0.j,\n",
      "             0.        +0.j, 0.        +0.j],\n",
      "            dims=(2, 2, 2, 2, 2))\n",
      "\n",
      " Initial GHZ State (Big - Endian Notation ):\n",
      "\n",
      " Error State ( Coefficients ) (Raw Coefficients ):\n",
      "Statevector([0.        +0.j, 0.        +0.j, 0.        +0.j,\n",
      "             0.70710678+0.j, 0.70710678+0.j, 0.        +0.j,\n",
      "             0.        +0.j, 0.        +0.j, 0.        +0.j,\n",
      "             0.        +0.j, 0.        +0.j, 0.        +0.j,\n",
      "             0.        +0.j, 0.        +0.j, 0.        +0.j,\n",
      "             0.        +0.j, 0.        +0.j, 0.        +0.j,\n",
      "             0.        +0.j, 0.        +0.j, 0.        +0.j,\n",
      "             0.        +0.j, 0.        +0.j, 0.        +0.j,\n",
      "             0.        +0.j, 0.        +0.j, 0.        +0.j,\n",
      "             0.        +0.j, 0.        +0.j, 0.        +0.j,\n",
      "             0.        +0.j, 0.        +0.j],\n",
      "            dims=(2, 2, 2, 2, 2))\n",
      "\n",
      " Error State (Big - Endian Notation ):\n"
     ]
    }
   ],
   "source": [
    "initial_state = Statevector . from_instruction ( qc )\n",
    "print_raw_statevector ( initial_state , \" Initial GHZ State ( Coefficients )\")\n",
    "print_statevector (initial_state , \" Initial GHZ State (Big - Endian Notation )\")\n",
    "qc.x(1)\n",
    "error_state = Statevector . from_instruction ( qc )\n",
    "print_raw_statevector ( error_state , \" Error State ( Coefficients )\")\n",
    "print_statevector ( error_state , \" Error State (Big - Endian Notation )\")"
   ]
  },
  {
   "cell_type": "code",
   "execution_count": 6,
   "metadata": {},
   "outputs": [
    {
     "name": "stdout",
     "output_type": "stream",
     "text": [
      " Measured classical register values : {'10': 1024}\n",
      "\n",
      " Final State ( Coefficients ) (Raw Coefficients ):\n",
      "Statevector([0.        +0.j, 0.        +0.j, 0.        +0.j,\n",
      "             0.        +0.j, 0.        +0.j, 0.        +0.j,\n",
      "             0.        +0.j, 0.        +0.j, 0.        +0.j,\n",
      "             0.        +0.j, 0.        +0.j, 0.        +0.j,\n",
      "             0.        +0.j, 0.        +0.j, 0.        +0.j,\n",
      "             0.        +0.j, 0.70710678+0.j, 0.        +0.j,\n",
      "             0.        +0.j, 0.        +0.j, 0.        +0.j,\n",
      "             0.        +0.j, 0.        +0.j, 0.70710678+0.j,\n",
      "             0.        +0.j, 0.        +0.j, 0.        +0.j,\n",
      "             0.        +0.j, 0.        +0.j, 0.        +0.j,\n",
      "             0.        +0.j, 0.        +0.j],\n",
      "            dims=(2, 2, 2, 2, 2))\n",
      "\n",
      " Final State (Big - Endian Notation ):\n"
     ]
    }
   ],
   "source": [
    "qc.cx(0,3) # CNOT from qubit 0 to ancilla 1 ( stored in qubit 3)\n",
    "qc.cx(1,3) # CNOT from qubit 1 to ancilla 1 ( stored in qubit 3)\n",
    "\n",
    "# Parity check between qubit 0 and qubit 2 Z0Z2\n",
    "qc . cx (0 , 4) # CNOT from qubit 0 to ancilla 2 ( stored in qubit 4)\n",
    "qc . cx (2 , 4) # CNOT from qubit 2 to ancilla 2 ( stored in qubit 4)\n",
    "\n",
    "# Step 4: Measure the ancilla qubits and store results in the classical register\n",
    "qc.measure (3 , creg [0]) # Measure ancilla qubit 3 into classical bit 0 of creg\n",
    "qc.measure (4 , creg [1]) # Measure ancilla qubit 4 into classical bit 1 of creg\n",
    "\n",
    "# After the measurement , execute the circuit and retrieve classical bit values\n",
    "# Use AerSimulator for simulation\n",
    "simulator = AerSimulator ()\n",
    "\n",
    "# Run the circuit and get the result\n",
    "result = simulator.run(qc).result()\n",
    "\n",
    "# Get the classical register values ( counts )\n",
    "counts = result . get_counts ()\n",
    "\n",
    "# Get the most common outcome ( assuming no noise , 1024 shots , etc .)\n",
    "measured_bitstring = max ( counts , key = counts.get )\n",
    "\n",
    "# Output the measured classical bits ( creg [0] and creg [1])\n",
    "print(f\" Measured classical register values : { counts }\")\n",
    "# Step 5: Apply error correction with double if statements\n",
    "if measured_bitstring =='01': # creg [1] = 0 and creg [0] = 1\n",
    "    qc . x (1)\n",
    "if measured_bitstring == '11': # creg [1] = 1 and creg [0] = 1\n",
    "    qc . x (0)\n",
    "if measured_bitstring == '10': # creg [1] = 1 and creg [0] = 0\n",
    "    qc . x (2)\n",
    "# Step 6: Remove measurements and get final state\n",
    "# Since we ’re using Statevector simulation , we need to remove the final measurements\n",
    "final_state = Statevector.from_instruction(qc.remove_final_measurements(inplace = False ))\n",
    " # Print final state after error correction\n",
    "print_raw_statevector ( final_state , \" Final State ( Coefficients )\")\n",
    "print_statevector ( final_state , \" Final State (Big - Endian Notation )\")"
   ]
  },
  {
   "cell_type": "markdown",
   "metadata": {},
   "source": [
    "##### When looking at the output it is clear that the code is not able to correct for the two qubit flipping errors. This can be seen if the initial state is a logical |0,0,0> with a double bit flip is |1,0,1> if our two Stabilizers are Z1 and Z2  the second is Z2 and Z3. In this case the resulant parity is P(-1,-1) which means there is a bit flip on the second bit which actually is the exact opposite of the result that is expected and would say the resultant after correction would be |111>."
   ]
  }
 ],
 "metadata": {
  "kernelspec": {
   "display_name": "oct_2024",
   "language": "python",
   "name": "python3"
  },
  "language_info": {
   "codemirror_mode": {
    "name": "ipython",
    "version": 3
   },
   "file_extension": ".py",
   "mimetype": "text/x-python",
   "name": "python",
   "nbconvert_exporter": "python",
   "pygments_lexer": "ipython3",
   "version": "3.12.4"
  }
 },
 "nbformat": 4,
 "nbformat_minor": 2
}
