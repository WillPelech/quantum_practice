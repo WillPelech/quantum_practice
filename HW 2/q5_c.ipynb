{
 "cells": [
  {
   "cell_type": "markdown",
   "metadata": {},
   "source": [
    "## imports"
   ]
  },
  {
   "cell_type": "code",
   "execution_count": 99,
   "metadata": {},
   "outputs": [],
   "source": [
    "from qiskit import QuantumCircuit , transpile\n",
    "from qiskit_aer import AerSimulator\n",
    "import random"
   ]
  },
  {
   "cell_type": "code",
   "execution_count": 100,
   "metadata": {},
   "outputs": [],
   "source": [
    "#key_length = 20\n",
    "def func(eve_intercepted,key_length):\n",
    "    simulator=AerSimulator()\n",
    "    alice_bits = [ random . randint (0 , 1) for _ in range ( key_length ) ]\n",
    "    alice_bases = [ random . choice ([ 'X', 'Z']) for _ in range ( key_length ) ]\n",
    "    bob_bases = [ random . choice ([ 'X','Z']) for _ in range ( key_length ) ]\n",
    "\n",
    "    alice_qubits = []\n",
    "    for i in range ( key_length ) :\n",
    "        qc = QuantumCircuit (1 , 1)\n",
    "   # Prepare the qubit in |0 > or |1 > based on alice_bits\n",
    "        if alice_bits [ i ] == 1:\n",
    "             qc.x (0)\n",
    "\n",
    "        # Apply basis (X for Hadamard , Z for no operation )\n",
    "        if alice_bases [ i ] == 'X':\n",
    "            qc.h (0)\n",
    "\n",
    "        alice_qubits.append(qc)\n",
    "    eve_results = []\n",
    "    for i , qc in enumerate ( alice_qubits ) :\n",
    "        if eve_intercepted [ i ]:\n",
    "            if random.choice(['X','Z']) =='Z':\n",
    "                qc.h(0) # Measure in X basis\n",
    "            qc.measure (0 , 0)\n",
    "            transpiled_qc = transpile ( qc , simulator )\n",
    "            result = simulator . run ( transpiled_qc ) . result ()\n",
    "            counts = result . get_counts ()\n",
    "    if counts . get ('0', 0) == counts . get ('1', 0) :\n",
    "        eve_results . append (random.choice([0,1]))\n",
    "    else :\n",
    "        eve_results . append ( int ( max ( counts , key = counts . get ) ) )\n",
    "\n",
    "    bob_results = []\n",
    "    for i in range ( key_length ) :\n",
    "        # Create Bob ’s circuit with Alice ’s prepared qubit\n",
    "        qc = alice_qubits [ i ]. copy ()\n",
    "        if bob_bases [ i ] == 'X':\n",
    "            qc . h (0)\n",
    "        qc . measure (0 , 0)\n",
    "\n",
    "        transpiled_qc = transpile ( qc , simulator )\n",
    "        result = simulator . run ( transpiled_qc ) . result ()\n",
    "        counts = result.get_counts()\n",
    "        if counts . get ('0', 0) == counts . get ('1', 0) :\n",
    "            bob_results . append ( random . choice ([0 , 1]) )\n",
    "        else :\n",
    "            bob_results . append ( int ( max ( counts , key = counts . get ) ) )\n",
    "    shared_key = []\n",
    "    eve_successful_intercepts = 0\n",
    "    total_matching_bases = 0\n",
    "\n",
    "    for i in range ( key_length) :\n",
    "        if alice_bases [ i ] == bob_bases [ i ]: # Keep only if bases match\n",
    "            total_matching_bases += 1\n",
    "            if alice_bits [ i ] == bob_results [ i ]: # Successful key bit\n",
    "                shared_key . append ( alice_bits [ i ])\n",
    "                if eve_intercepted [ i ]:\n",
    "                    eve_successful_intercepts += 1\n",
    "\n",
    "    if total_matching_bases > 0:\n",
    "        eve_success_rate = eve_successful_intercepts / total_matching_bases\n",
    "    else :  \n",
    "        eve_success_rate = 0 # Avoid division by zero if no matching bases\n",
    "    # Display results\n",
    "    print (\" Alice ’s Bits : \", alice_bits )\n",
    "    print (\" Alice ’s Bases : \", alice_bases )\n",
    "    print (\" Eve Intercepts : \", eve_intercepted )\n",
    "    print (\" Bob ’s Bases : \", bob_bases )\n",
    "    print (\" Bob ’s Results : \", bob_results )\n",
    "    print (\" Shared Key : \", [ int ( bit ) for bit in shared_key])\n",
    "    print ( f\" Eve ’s Success Rate : { eve_success_rate * 100}%\")\n",
    "\n",
    "\n",
    "    sample_size = len(shared_key)//5 +1 \n",
    "    print(sample_size)\n",
    "    sample_indices = random.sample(range(len(shared_key)), sample_size)\n",
    "\n",
    "    print(sample_indices)\n",
    "    errors = 0\n",
    "    for index in sample_indices:\n",
    "        if shared_key[index] != bob_results[index]:\n",
    "            errors += 1 \n",
    "    error_rate = errors / sample_size\n",
    "\n",
    "    if error_rate > 0.1:#threshold for security\n",
    "        print(\"High error rate detected. Possible eavesdropping. Key discarded.\")\n",
    "    else:\n",
    "        print(\"Key is likely secure. Proceeding with the shared key.\")"
   ]
  },
  {
   "cell_type": "markdown",
   "metadata": {},
   "source": [
    "### Function calls"
   ]
  },
  {
   "cell_type": "markdown",
   "metadata": {},
   "source": [
    "##### Function call 0%"
   ]
  },
  {
   "cell_type": "code",
   "execution_count": 109,
   "metadata": {},
   "outputs": [
    {
     "name": "stdout",
     "output_type": "stream",
     "text": [
      " Alice ’s Bits :  [1, 1, 0, 0, 0, 0, 0, 0, 1, 1]\n",
      " Alice ’s Bases :  ['X', 'X', 'X', 'Z', 'Z', 'Z', 'Z', 'Z', 'X', 'X']\n",
      " Eve Intercepts :  [True, False, False, False, True, False, False, False, False, False]\n",
      " Bob ’s Bases :  ['Z', 'Z', 'X', 'X', 'X', 'Z', 'X', 'Z', 'X', 'X']\n",
      " Bob ’s Results :  [0, 1, 0, 1, 1, 0, 0, 0, 1, 1]\n",
      " Shared Key :  [0, 0, 0, 1, 1]\n",
      " Eve ’s Success Rate : 0.0%\n",
      "2\n",
      "[4, 3]\n",
      "Key is likely secure. Proceeding with the shared key.\n"
     ]
    }
   ],
   "source": [
    "key_len1 = 10\n",
    "func(eve_intercepted1,key_len1)"
   ]
  },
  {
   "cell_type": "markdown",
   "metadata": {},
   "source": [
    "### Function call 20%"
   ]
  },
  {
   "cell_type": "code",
   "execution_count": 108,
   "metadata": {},
   "outputs": [
    {
     "name": "stdout",
     "output_type": "stream",
     "text": [
      " Alice ’s Bits :  [1, 1, 1, 0, 1, 1, 1, 0, 1, 0]\n",
      " Alice ’s Bases :  ['X', 'X', 'Z', 'X', 'Z', 'X', 'Z', 'Z', 'X', 'X']\n",
      " Eve Intercepts :  [True, False, False, False, True, False, False, False, False, False]\n",
      " Bob ’s Bases :  ['X', 'X', 'Z', 'Z', 'X', 'Z', 'Z', 'Z', 'Z', 'X']\n",
      " Bob ’s Results :  [1, 1, 1, 1, 0, 0, 1, 0, 1, 0]\n",
      " Shared Key :  [1, 1, 1, 1, 0, 0]\n",
      " Eve ’s Success Rate : 16.666666666666664%\n",
      "2\n",
      "[2, 5]\n",
      "Key is likely secure. Proceeding with the shared key.\n"
     ]
    }
   ],
   "source": [
    "key_len2 = 10\n",
    "eve_intercepted1= [random.choice ([True,True,False,False,False,False,False,False,False,False]) for _ in range ( key_len1 )]\n",
    "updated2= random . choice ([0 , 1, 1])\n",
    "func(eve_intercepted1,key_len1)"
   ]
  },
  {
   "cell_type": "markdown",
   "metadata": {},
   "source": [
    "##### Function call 50%"
   ]
  },
  {
   "cell_type": "code",
   "execution_count": 102,
   "metadata": {},
   "outputs": [
    {
     "name": "stdout",
     "output_type": "stream",
     "text": [
      " Alice ’s Bits :  [0, 1, 0, 0, 1, 1, 1, 0, 1, 0]\n",
      " Alice ’s Bases :  ['X', 'X', 'Z', 'X', 'X', 'Z', 'X', 'Z', 'Z', 'Z']\n",
      " Eve Intercepts :  [True, False, True, False, True, False, False, False, False, True]\n",
      " Bob ’s Bases :  ['X', 'Z', 'Z', 'X', 'Z', 'Z', 'X', 'Z', 'Z', 'X']\n",
      " Bob ’s Results :  [0, 0, 1, 0, 0, 1, 1, 0, 1, 0]\n",
      " Shared Key :  [0, 0, 1, 1, 0, 1]\n",
      " Eve ’s Success Rate : 14.285714285714285%\n",
      "2\n",
      "[4, 5]\n",
      "Key is likely secure. Proceeding with the shared key.\n"
     ]
    }
   ],
   "source": [
    "key_len2 = 10\n",
    "eve_intercepted1= [random.choice ([False,True]) for _ in range ( key_len1 )]\n",
    "updated2= random . choice ([0 , 1])\n",
    "func(eve_intercepted1,key_len1)"
   ]
  },
  {
   "cell_type": "markdown",
   "metadata": {},
   "source": [
    "##### Function 80% "
   ]
  },
  {
   "cell_type": "code",
   "execution_count": null,
   "metadata": {},
   "outputs": [
    {
     "name": "stdout",
     "output_type": "stream",
     "text": [
      " Alice ’s Bits :  [0, 1, 0, 0, 0, 1, 1, 0, 1, 0]\n",
      " Alice ’s Bases :  ['X', 'X', 'X', 'Z', 'Z', 'X', 'X', 'X', 'X', 'Z']\n",
      " Eve Intercepts :  [True, False, False, True, True, True, True, True, True, True]\n",
      " Bob ’s Bases :  ['Z', 'X', 'Z', 'X', 'Z', 'Z', 'Z', 'Z', 'X', 'Z']\n",
      " Bob ’s Results :  [0, 1, 1, 1, 0, 0, 1, 0, 1, 0]\n",
      " Shared Key :  [1, 0, 1, 0]\n",
      " Eve ’s Success Rate : 75.0%\n",
      "1\n",
      "[1]\n",
      "High error rate detected. Possible eavesdropping. Key discarded.\n"
     ]
    }
   ],
   "source": [
    "key_len2 = 10\n",
    "eve_intercepted1= [random.choice ([False,True,True,True,True]) for _ in range ( key_len1 )]\n",
    "updated2= random . choice ([0 , 1])\n",
    "func(eve_intercepted1,key_len1)"
   ]
  },
  {
   "cell_type": "markdown",
   "metadata": {},
   "source": [
    "##### 100%"
   ]
  },
  {
   "cell_type": "code",
   "execution_count": null,
   "metadata": {},
   "outputs": [
    {
     "name": "stdout",
     "output_type": "stream",
     "text": [
      " Alice ’s Bits :  [1, 0, 0, 0, 1, 1, 0, 0, 0, 0]\n",
      " Alice ’s Bases :  ['Z', 'X', 'Z', 'X', 'X', 'Z', 'X', 'Z', 'Z', 'X']\n",
      " Eve Intercepts :  [True, True, True, True, True, True, True, True, True, True]\n",
      " Bob ’s Bases :  ['Z', 'Z', 'Z', 'Z', 'X', 'X', 'X', 'X', 'Z', 'X']\n",
      " Bob ’s Results :  [1, 0, 0, 1, 1, 0, 0, 0, 0, 1]\n",
      " Shared Key :  [1, 0, 1, 0, 0]\n",
      " Eve ’s Success Rate : 83.33333333333334%\n",
      "2\n",
      "[2, 1]\n",
      "High error rate detected. Possible eavesdropping. Key discarded.\n"
     ]
    }
   ],
   "source": [
    "key_len2 = 10\n",
    "eve_intercepted1= [random.choice ([True]) for _ in range ( key_len1 )]\n",
    "updated2= random . choice ([0 , 1])\n",
    "func(eve_intercepted1,key_len1)"
   ]
  }
 ],
 "metadata": {
  "kernelspec": {
   "display_name": "oct_2024",
   "language": "python",
   "name": "python3"
  },
  "language_info": {
   "codemirror_mode": {
    "name": "ipython",
    "version": 3
   },
   "file_extension": ".py",
   "mimetype": "text/x-python",
   "name": "python",
   "nbconvert_exporter": "python",
   "pygments_lexer": "ipython3",
   "version": "3.12.4"
  }
 },
 "nbformat": 4,
 "nbformat_minor": 2
}
